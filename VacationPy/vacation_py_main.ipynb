{
 "cells": [
  {
   "cell_type": "markdown",
   "id": "db955645",
   "metadata": {},
   "source": [
    "# File Setup"
   ]
  },
  {
   "cell_type": "code",
   "execution_count": 1,
   "id": "b6e7ae6a",
   "metadata": {},
   "outputs": [],
   "source": [
    "#dependencies\n",
    "import matplotlib.pyplot as plt\n",
    "import pandas as pd\n",
    "import numpy as np\n",
    "import scipy.stats as sts\n",
    "import random as random\n",
    "import requests\n",
    "import sys\n",
    "import gmaps\n",
    "from pprint import pprint\n",
    "\n",
    "#plot style\n",
    "plt.style.use('dark_background')\n",
    "\n",
    "#api-key in different folder, so need to adjust filepath\n",
    "sys.path.append(\"/Users/Chrismus Time/Desktop/upenn-datacamp-2021/homework-repo/python-api-challenge\")\n",
    "\n",
    "#import keys\n",
    "from config import gkey\n",
    "from config import api_key\n",
    "\n",
    "#configure key\n",
    "gmaps.configure(api_key = gkey)\n",
    "\n",
    "#github commands\n",
    "# jupyter nbextension enable --py gmaps\n",
    "# jupyter nbextension enable --py widgetsnbextension"
   ]
  },
  {
   "cell_type": "markdown",
   "id": "c3326d78",
   "metadata": {},
   "source": [
    "# Variable Setup"
   ]
  },
  {
   "cell_type": "code",
   "execution_count": 2,
   "id": "3d8e56ad",
   "metadata": {},
   "outputs": [
    {
     "data": {
      "text/html": [
       "<div>\n",
       "<style scoped>\n",
       "    .dataframe tbody tr th:only-of-type {\n",
       "        vertical-align: middle;\n",
       "    }\n",
       "\n",
       "    .dataframe tbody tr th {\n",
       "        vertical-align: top;\n",
       "    }\n",
       "\n",
       "    .dataframe thead th {\n",
       "        text-align: right;\n",
       "    }\n",
       "</style>\n",
       "<table border=\"1\" class=\"dataframe\">\n",
       "  <thead>\n",
       "    <tr style=\"text-align: right;\">\n",
       "      <th></th>\n",
       "      <th>City</th>\n",
       "      <th>Country</th>\n",
       "      <th>Latitude</th>\n",
       "      <th>Longitude</th>\n",
       "      <th>Temp (F)</th>\n",
       "      <th>Humidity (%)</th>\n",
       "      <th>Clouds (%)</th>\n",
       "      <th>Wind Speed (mph)</th>\n",
       "    </tr>\n",
       "  </thead>\n",
       "  <tbody>\n",
       "    <tr>\n",
       "      <th>0</th>\n",
       "      <td>albany</td>\n",
       "      <td>au</td>\n",
       "      <td>42.652579</td>\n",
       "      <td>-73.756232</td>\n",
       "      <td>42.66</td>\n",
       "      <td>85.0</td>\n",
       "      <td>2.0</td>\n",
       "      <td>3.00</td>\n",
       "    </tr>\n",
       "    <tr>\n",
       "      <th>1</th>\n",
       "      <td>victoria</td>\n",
       "      <td>sc</td>\n",
       "      <td>36.994874</td>\n",
       "      <td>-78.227220</td>\n",
       "      <td>77.86</td>\n",
       "      <td>77.0</td>\n",
       "      <td>74.0</td>\n",
       "      <td>3.00</td>\n",
       "    </tr>\n",
       "    <tr>\n",
       "      <th>2</th>\n",
       "      <td>masuguru</td>\n",
       "      <td>tz</td>\n",
       "      <td>-11.349025</td>\n",
       "      <td>38.429997</td>\n",
       "      <td>95.56</td>\n",
       "      <td>25.0</td>\n",
       "      <td>8.0</td>\n",
       "      <td>5.70</td>\n",
       "    </tr>\n",
       "    <tr>\n",
       "      <th>3</th>\n",
       "      <td>hobart</td>\n",
       "      <td>au</td>\n",
       "      <td>41.532259</td>\n",
       "      <td>-87.255035</td>\n",
       "      <td>41.61</td>\n",
       "      <td>74.0</td>\n",
       "      <td>40.0</td>\n",
       "      <td>1.99</td>\n",
       "    </tr>\n",
       "    <tr>\n",
       "      <th>4</th>\n",
       "      <td>lebu</td>\n",
       "      <td>cl</td>\n",
       "      <td>-37.608048</td>\n",
       "      <td>-73.651491</td>\n",
       "      <td>57.15</td>\n",
       "      <td>72.0</td>\n",
       "      <td>100.0</td>\n",
       "      <td>15.90</td>\n",
       "    </tr>\n",
       "  </tbody>\n",
       "</table>\n",
       "</div>"
      ],
      "text/plain": [
       "       City Country   Latitude  Longitude  Temp (F)  Humidity (%)  Clouds (%)  \\\n",
       "0    albany      au  42.652579 -73.756232     42.66          85.0         2.0   \n",
       "1  victoria      sc  36.994874 -78.227220     77.86          77.0        74.0   \n",
       "2  masuguru      tz -11.349025  38.429997     95.56          25.0         8.0   \n",
       "3    hobart      au  41.532259 -87.255035     41.61          74.0        40.0   \n",
       "4      lebu      cl -37.608048 -73.651491     57.15          72.0       100.0   \n",
       "\n",
       "   Wind Speed (mph)  \n",
       "0              3.00  \n",
       "1              3.00  \n",
       "2              5.70  \n",
       "3              1.99  \n",
       "4             15.90  "
      ]
     },
     "execution_count": 2,
     "metadata": {},
     "output_type": "execute_result"
    }
   ],
   "source": [
    "#import data from created city csv\n",
    "city_df = pd.read_csv(\"../WeatherPy/dataframe.csv\")\n",
    "\n",
    "#clean up data\n",
    "clean_df = city_df.dropna(how = 'any').reset_index().drop(['index', 'Unnamed: 0'], axis = 1)\n",
    "clean_df.head()"
   ]
  },
  {
   "cell_type": "markdown",
   "id": "f10497e2",
   "metadata": {},
   "source": [
    "### Adding the max/min temp to dataframe\n",
    " - misread the directions. thought we had to go back to openweatherapi and fetch the max min temps, but its just asking for a cap on the temp\n",
    " - code below works, just not what instructions asked for"
   ]
  },
  {
   "cell_type": "code",
   "execution_count": 3,
   "id": "15e5d164",
   "metadata": {},
   "outputs": [],
   "source": [
    "# #creating lists to be used in for loop\n",
    "# max_temp, min_temp = [], [] #creating storage variables dict\n",
    "# values_list = [max_temp, min_temp] #putting these in a meta-list for looping\n",
    "# function_list = [\"city_response['main']['temp_max']\", \"city_response['main']['temp_min']\"]\n",
    "# city_names = clean_df['City'].tolist() #extracting all city names\n",
    "\n",
    "# #defining varibales to be used in the for loop\n",
    "# units = 'imperial' #defining units as F\n",
    "# base_url = f\"http://api.openweathermap.org/data/2.5/weather?appid={api_key}&units={units}&q=\" #defining url"
   ]
  },
  {
   "cell_type": "code",
   "execution_count": 4,
   "id": "99b99aa0",
   "metadata": {},
   "outputs": [],
   "source": [
    "# #populating lists with relevant values\n",
    "# counter = 0\n",
    "# for city in city_names:\n",
    "#     city_response = requests.get(f\"{base_url}{city}\").json()\n",
    "#     for i in range(len(values_list)):\n",
    "#         #because the citynames were pre-vetted from part 1, don't need a try/except to catch NaN, since none of the cities will have NaNs\n",
    "#         values_list[i].append(eval(function_list[i]))\n",
    "#     counter += 1\n",
    "#     print(f\"{city} #{counter} of {len(city_names)}\") #adding print to track progress"
   ]
  },
  {
   "cell_type": "code",
   "execution_count": 5,
   "id": "5e54ce7c",
   "metadata": {},
   "outputs": [],
   "source": [
    "# #adding to df\n",
    "# clean_df['Max Temp (F)'] = max_temp\n",
    "# clean_df['Min Temp (F)'] = min_temp\n",
    "# clean_df.head()"
   ]
  },
  {
   "cell_type": "markdown",
   "id": "68c715aa",
   "metadata": {},
   "source": [
    "# Plotting Humidity Heatmap"
   ]
  },
  {
   "cell_type": "code",
   "execution_count": 6,
   "id": "128e20e5",
   "metadata": {},
   "outputs": [
    {
     "name": "stdout",
     "output_type": "stream",
     "text": [
      "Humidity: mean 70.27, median 74.0, mode 0    74.0\n",
      "dtype: float64.\n"
     ]
    },
    {
     "data": {
      "application/vnd.jupyter.widget-view+json": {
       "model_id": "fec112d7459a48daa155fc856dd5de12",
       "version_major": 2,
       "version_minor": 0
      },
      "text/plain": [
       "Figure(layout=FigureLayout(border='1px solid black', height='500px', margin='0 auto 0 auto', padding='1px', wi…"
      ]
     },
     "metadata": {},
     "output_type": "display_data"
    }
   ],
   "source": [
    "#figure settings\n",
    "fig_settings = {\n",
    "    'width': '600px',\n",
    "    'height': '500px',\n",
    "    'border': '1px solid black',\n",
    "    'padding': '1px',\n",
    "    'margin': '0 auto 0 auto'\n",
    "}\n",
    "\n",
    "#create fig\n",
    "fig = gmaps.figure(layout = fig_settings)\n",
    "\n",
    "#generating heatmap variables\n",
    "coordinates = list(zip(clean_df['Latitude'].tolist(), clean_df['Longitude'].tolist()))\n",
    "humidity_values = clean_df['Humidity (%)']\n",
    "max_intensity = 100\n",
    "point_radius = 7\n",
    "\n",
    "#creating marker layer\n",
    "heat_layer = gmaps.heatmap_layer(coordinates, weights = humidity_values, dissipating = True, max_intensity = max_intensity, point_radius = point_radius)\n",
    "\n",
    "#testing the humidity to see why so much red\n",
    "print(f\"Humidity: mean {round(clean_df['Humidity (%)'].mean(),2)}, median {clean_df['Humidity (%)'].median()}, mode {clean_df['Humidity (%)'].mode()}.\")\n",
    "\n",
    "#adding markers to map\n",
    "fig.add_layer(heat_layer)\n",
    "fig"
   ]
  },
  {
   "cell_type": "markdown",
   "id": "7b8a1ad6",
   "metadata": {},
   "source": [
    "# Plotting Ideal Heatmap"
   ]
  },
  {
   "cell_type": "markdown",
   "id": "a1db14a5",
   "metadata": {},
   "source": [
    "### Narrowing down ideal conditions"
   ]
  },
  {
   "cell_type": "code",
   "execution_count": 7,
   "id": "d79dbe5f",
   "metadata": {},
   "outputs": [
    {
     "name": "stdout",
     "output_type": "stream",
     "text": [
      "There are only 4 ideal cities out of 460.\n"
     ]
    },
    {
     "data": {
      "text/html": [
       "<div>\n",
       "<style scoped>\n",
       "    .dataframe tbody tr th:only-of-type {\n",
       "        vertical-align: middle;\n",
       "    }\n",
       "\n",
       "    .dataframe tbody tr th {\n",
       "        vertical-align: top;\n",
       "    }\n",
       "\n",
       "    .dataframe thead th {\n",
       "        text-align: right;\n",
       "    }\n",
       "</style>\n",
       "<table border=\"1\" class=\"dataframe\">\n",
       "  <thead>\n",
       "    <tr style=\"text-align: right;\">\n",
       "      <th></th>\n",
       "      <th>City</th>\n",
       "      <th>Country</th>\n",
       "      <th>Latitude</th>\n",
       "      <th>Longitude</th>\n",
       "      <th>Temp (F)</th>\n",
       "      <th>Humidity (%)</th>\n",
       "      <th>Clouds (%)</th>\n",
       "      <th>Wind Speed (mph)</th>\n",
       "    </tr>\n",
       "  </thead>\n",
       "  <tbody>\n",
       "    <tr>\n",
       "      <th>0</th>\n",
       "      <td>ginir</td>\n",
       "      <td>et</td>\n",
       "      <td>7.138672</td>\n",
       "      <td>40.711564</td>\n",
       "      <td>69.04</td>\n",
       "      <td>37.0</td>\n",
       "      <td>85.0</td>\n",
       "      <td>7.92</td>\n",
       "    </tr>\n",
       "    <tr>\n",
       "      <th>1</th>\n",
       "      <td>emerald</td>\n",
       "      <td>au</td>\n",
       "      <td>37.088557</td>\n",
       "      <td>-95.580680</td>\n",
       "      <td>76.98</td>\n",
       "      <td>33.0</td>\n",
       "      <td>92.0</td>\n",
       "      <td>3.49</td>\n",
       "    </tr>\n",
       "    <tr>\n",
       "      <th>2</th>\n",
       "      <td>armilla</td>\n",
       "      <td>es</td>\n",
       "      <td>37.151231</td>\n",
       "      <td>-3.616715</td>\n",
       "      <td>68.29</td>\n",
       "      <td>40.0</td>\n",
       "      <td>20.0</td>\n",
       "      <td>3.00</td>\n",
       "    </tr>\n",
       "    <tr>\n",
       "      <th>3</th>\n",
       "      <td>rawson</td>\n",
       "      <td>ar</td>\n",
       "      <td>-43.299858</td>\n",
       "      <td>-65.099487</td>\n",
       "      <td>74.07</td>\n",
       "      <td>31.0</td>\n",
       "      <td>97.0</td>\n",
       "      <td>8.01</td>\n",
       "    </tr>\n",
       "  </tbody>\n",
       "</table>\n",
       "</div>"
      ],
      "text/plain": [
       "      City Country   Latitude  Longitude  Temp (F)  Humidity (%)  Clouds (%)  \\\n",
       "0    ginir      et   7.138672  40.711564     69.04          37.0        85.0   \n",
       "1  emerald      au  37.088557 -95.580680     76.98          33.0        92.0   \n",
       "2  armilla      es  37.151231  -3.616715     68.29          40.0        20.0   \n",
       "3   rawson      ar -43.299858 -65.099487     74.07          31.0        97.0   \n",
       "\n",
       "   Wind Speed (mph)  \n",
       "0              7.92  \n",
       "1              3.49  \n",
       "2              3.00  \n",
       "3              8.01  "
      ]
     },
     "execution_count": 7,
     "metadata": {},
     "output_type": "execute_result"
    }
   ],
   "source": [
    "#using custom qualifications for personal ideal\n",
    "ideal_df = clean_df.loc[(clean_df['Temp (F)'] < 77) &\n",
    "                        (clean_df['Temp (F)'] > 60) &\n",
    "                        (clean_df['Humidity (%)'] < 50) &\n",
    "                        (clean_df['Wind Speed (mph)'] < 10) &\n",
    "                        (clean_df['Clouds (%)'] > 10)]\n",
    "print(f\"There are only {len(ideal_df['City'])} ideal cities out of {len(clean_df['City'])}.\")\n",
    "ideal_df = ideal_df.reset_index().drop('index', axis = 1)\n",
    "ideal_df.head()"
   ]
  },
  {
   "cell_type": "markdown",
   "id": "958cb2fc",
   "metadata": {},
   "source": [
    "### Fetching data for closest hotels"
   ]
  },
  {
   "cell_type": "code",
   "execution_count": 8,
   "id": "e44ba84c",
   "metadata": {},
   "outputs": [],
   "source": [
    "#setting variables for ideal heatmap\n",
    "gplaces_url = \"https://maps.googleapis.com/maps/api/place/nearbysearch/json\"\n",
    "gplaces_parameters = {\n",
    "    'keyword' : 'hotel',\n",
    "    'location' : '',\n",
    "    'radius' : 5000,\n",
    "    'key' : gkey\n",
    "}\n",
    "\n",
    "#setting lists/variables for forloop\n",
    "found = False\n",
    "hotel_names, hotel_lat, hotel_long = [], [], []\n",
    "hotel_meta_list = [hotel_names, hotel_lat, hotel_long]\n",
    "functions_list = [\"hotel_response['results'][0]['name']\", \"hotel_response['results'][0]['geometry']['location']['lat']\", \"hotel_response['results'][0]['geometry']['location']['lng']\"]"
   ]
  },
  {
   "cell_type": "code",
   "execution_count": 9,
   "id": "68d5b9a7",
   "metadata": {},
   "outputs": [
    {
     "name": "stdout",
     "output_type": "stream",
     "text": [
      "ginir has at least one matching result.\n",
      "emerald has at least one matching result.\n",
      "armilla has at least one matching result.\n",
      "rawson has at least one matching result.\n"
     ]
    }
   ],
   "source": [
    "#requests hotel of ideal locations\n",
    "for i in range(len(ideal_df['City'])):\n",
    "    gplaces_parameters['location'] = f\"{ideal_df['Latitude'].tolist()[i]},{ideal_df['Longitude'].tolist()[i]}\"\n",
    "    hotel_response = requests.get(gplaces_url, params = gplaces_parameters).json()\n",
    "    for j in range(len(hotel_meta_list)):\n",
    "        try:\n",
    "            hotel_meta_list[j].append(eval(functions_list[j]))\n",
    "            found = True\n",
    "        except:\n",
    "            hotel_meta_list[j].append(np.NaN)\n",
    "    if (found == True):\n",
    "        print(f\"{ideal_df['City'].tolist()[i]} has at least one matching result.\")\n",
    "    else:\n",
    "        print(f\"{ideal_df['City'].tolist()[i]} has no matching results.\")\n",
    "    found = False #resetting for the next city"
   ]
  },
  {
   "cell_type": "markdown",
   "id": "1096a800",
   "metadata": {},
   "source": [
    "### Creating the new dataframe with hotel data"
   ]
  },
  {
   "cell_type": "code",
   "execution_count": 10,
   "id": "61f2d786",
   "metadata": {},
   "outputs": [
    {
     "data": {
      "text/html": [
       "<div>\n",
       "<style scoped>\n",
       "    .dataframe tbody tr th:only-of-type {\n",
       "        vertical-align: middle;\n",
       "    }\n",
       "\n",
       "    .dataframe tbody tr th {\n",
       "        vertical-align: top;\n",
       "    }\n",
       "\n",
       "    .dataframe thead th {\n",
       "        text-align: right;\n",
       "    }\n",
       "</style>\n",
       "<table border=\"1\" class=\"dataframe\">\n",
       "  <thead>\n",
       "    <tr style=\"text-align: right;\">\n",
       "      <th></th>\n",
       "      <th>City</th>\n",
       "      <th>Country</th>\n",
       "      <th>Latitude</th>\n",
       "      <th>Longitude</th>\n",
       "      <th>Temp (F)</th>\n",
       "      <th>Humidity (%)</th>\n",
       "      <th>Clouds (%)</th>\n",
       "      <th>Wind Speed (mph)</th>\n",
       "      <th>Closest Hotel</th>\n",
       "      <th>Hotel Latitude</th>\n",
       "      <th>Hotel Longitude</th>\n",
       "    </tr>\n",
       "  </thead>\n",
       "  <tbody>\n",
       "    <tr>\n",
       "      <th>0</th>\n",
       "      <td>ginir</td>\n",
       "      <td>et</td>\n",
       "      <td>7.138672</td>\n",
       "      <td>40.711564</td>\n",
       "      <td>69.04</td>\n",
       "      <td>37.0</td>\n",
       "      <td>85.0</td>\n",
       "      <td>7.92</td>\n",
       "      <td>Bekera hotel</td>\n",
       "      <td>7.137535</td>\n",
       "      <td>40.712731</td>\n",
       "    </tr>\n",
       "    <tr>\n",
       "      <th>1</th>\n",
       "      <td>emerald</td>\n",
       "      <td>au</td>\n",
       "      <td>37.088557</td>\n",
       "      <td>-95.580680</td>\n",
       "      <td>76.98</td>\n",
       "      <td>33.0</td>\n",
       "      <td>92.0</td>\n",
       "      <td>3.49</td>\n",
       "      <td>Junction West Coffeyville</td>\n",
       "      <td>37.105189</td>\n",
       "      <td>-95.587528</td>\n",
       "    </tr>\n",
       "    <tr>\n",
       "      <th>2</th>\n",
       "      <td>armilla</td>\n",
       "      <td>es</td>\n",
       "      <td>37.151231</td>\n",
       "      <td>-3.616715</td>\n",
       "      <td>68.29</td>\n",
       "      <td>40.0</td>\n",
       "      <td>20.0</td>\n",
       "      <td>3.00</td>\n",
       "      <td>Sercotel Gran Hotel Luna de Granada</td>\n",
       "      <td>37.176552</td>\n",
       "      <td>-3.612778</td>\n",
       "    </tr>\n",
       "    <tr>\n",
       "      <th>3</th>\n",
       "      <td>rawson</td>\n",
       "      <td>ar</td>\n",
       "      <td>-43.299858</td>\n",
       "      <td>-65.099487</td>\n",
       "      <td>74.07</td>\n",
       "      <td>31.0</td>\n",
       "      <td>97.0</td>\n",
       "      <td>8.01</td>\n",
       "      <td>Hosteria Sampedro</td>\n",
       "      <td>-43.301509</td>\n",
       "      <td>-65.104922</td>\n",
       "    </tr>\n",
       "  </tbody>\n",
       "</table>\n",
       "</div>"
      ],
      "text/plain": [
       "      City Country   Latitude  Longitude  Temp (F)  Humidity (%)  Clouds (%)  \\\n",
       "0    ginir      et   7.138672  40.711564     69.04          37.0        85.0   \n",
       "1  emerald      au  37.088557 -95.580680     76.98          33.0        92.0   \n",
       "2  armilla      es  37.151231  -3.616715     68.29          40.0        20.0   \n",
       "3   rawson      ar -43.299858 -65.099487     74.07          31.0        97.0   \n",
       "\n",
       "   Wind Speed (mph)                        Closest Hotel  Hotel Latitude  \\\n",
       "0              7.92                         Bekera hotel        7.137535   \n",
       "1              3.49            Junction West Coffeyville       37.105189   \n",
       "2              3.00  Sercotel Gran Hotel Luna de Granada       37.176552   \n",
       "3              8.01                    Hosteria Sampedro      -43.301509   \n",
       "\n",
       "   Hotel Longitude  \n",
       "0        40.712731  \n",
       "1       -95.587528  \n",
       "2        -3.612778  \n",
       "3       -65.104922  "
      ]
     },
     "execution_count": 10,
     "metadata": {},
     "output_type": "execute_result"
    }
   ],
   "source": [
    "#variables for populating\n",
    "new_columns = ['Closest Hotel', 'Hotel Latitude', 'Hotel Longitude']\n",
    "\n",
    "#populating dataframe\n",
    "for i in range(len(new_columns)):\n",
    "    ideal_df[new_columns[i]] = hotel_meta_list[i]\n",
    "\n",
    "#displaying new dataframe\n",
    "ideal_df.head()"
   ]
  },
  {
   "cell_type": "code",
   "execution_count": 11,
   "id": "af865416",
   "metadata": {},
   "outputs": [
    {
     "name": "stdout",
     "output_type": "stream",
     "text": [
      "['Name\\nBekera hotel\\nCity\\nginir\\nCountry\\net', 'Name\\nJunction West Coffeyville\\nCity\\nemerald\\nCountry\\nau', 'Name\\nSercotel Gran Hotel Luna de Granada\\nCity\\narmilla\\nCountry\\nes', 'Name\\nHosteria Sampedro\\nCity\\nrawson\\nCountry\\nar']\n"
     ]
    }
   ],
   "source": [
    "hotel_info = []\n",
    "for i in range(len(ideal_df['Country'])):\n",
    "    hotel_info.append(f\"Name\\n{ideal_df['Closest Hotel'][i]}\\nCity\\n{ideal_df['City'][i]}\\nCountry\\n{ideal_df['Country'][i]}\")\n",
    "print(hotel_info)"
   ]
  },
  {
   "cell_type": "code",
   "execution_count": 12,
   "id": "130b80c0",
   "metadata": {},
   "outputs": [
    {
     "name": "stdout",
     "output_type": "stream",
     "text": [
      "Name\n",
      "Bekera hotel\n",
      "City\n",
      "ginir\n",
      "Country\n",
      "et\n"
     ]
    }
   ],
   "source": [
    "i = 0\n",
    "print(f\"Name\\n{ideal_df['Closest Hotel'][i]}\\nCity\\n{ideal_df['City'][i]}\\nCountry\\n{ideal_df['Country'][i]}\")"
   ]
  },
  {
   "cell_type": "code",
   "execution_count": 13,
   "id": "97ed14b0",
   "metadata": {},
   "outputs": [
    {
     "data": {
      "application/vnd.jupyter.widget-view+json": {
       "model_id": "fec112d7459a48daa155fc856dd5de12",
       "version_major": 2,
       "version_minor": 0
      },
      "text/plain": [
       "Figure(layout=FigureLayout(border='1px solid black', height='500px', margin='0 auto 0 auto', padding='1px', wi…"
      ]
     },
     "metadata": {},
     "output_type": "display_data"
    }
   ],
   "source": [
    "#generating markers variables\n",
    "coordinates = list(zip(ideal_df['Latitude'].tolist(), ideal_df['Longitude'].tolist()))\n",
    "\n",
    "#creating marker layer\n",
    "marker_layer = gmaps.marker_layer(coordinates,\n",
    "                                  info_box_content = hotel_info\n",
    "                                 )\n",
    "\n",
    "#adding markers to map\n",
    "fig.add_layer(marker_layer)\n",
    "fig"
   ]
  }
 ],
 "metadata": {
  "kernelspec": {
   "display_name": "Python [conda env:PythonData] *",
   "language": "python",
   "name": "conda-env-PythonData-py"
  },
  "language_info": {
   "codemirror_mode": {
    "name": "ipython",
    "version": 3
   },
   "file_extension": ".py",
   "mimetype": "text/x-python",
   "name": "python",
   "nbconvert_exporter": "python",
   "pygments_lexer": "ipython3",
   "version": "3.8.12"
  }
 },
 "nbformat": 4,
 "nbformat_minor": 5
}
